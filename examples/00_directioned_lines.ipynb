{
 "cells": [
  {
   "attachments": {},
   "cell_type": "markdown",
   "metadata": {},
   "source": [
    "# Using stormcatchments with directioned line data\n",
    "\n",
    "- Data source: https://www.gwinnettcounty.com/web/gwinnett/departments/informationtechnologyservices/geographicinformationsystems/gisdataandmapsales/-/mapsales/product/GIS_SET-5\n",
    "- Metadata/symbology for points: https://gis3.gwinnettcounty.com/mapvis/rest/services/OnPoint/GC_Stormwater/MapServer/4"
   ]
  },
  {
   "cell_type": "code",
   "execution_count": null,
   "metadata": {},
   "outputs": [],
   "source": []
  }
 ],
 "metadata": {
  "kernelspec": {
   "display_name": "gis",
   "language": "python",
   "name": "python3"
  },
  "language_info": {
   "codemirror_mode": {
    "name": "ipython",
    "version": 3
   },
   "file_extension": ".py",
   "mimetype": "text/x-python",
   "name": "python",
   "nbconvert_exporter": "python",
   "pygments_lexer": "ipython3",
   "version": "3.9.2"
  },
  "orig_nbformat": 4
 },
 "nbformat": 4,
 "nbformat_minor": 2
}
